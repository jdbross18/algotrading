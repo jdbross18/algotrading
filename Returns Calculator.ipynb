{
 "cells": [
  {
   "cell_type": "code",
   "execution_count": 2,
   "id": "d7bb872a",
   "metadata": {},
   "outputs": [],
   "source": [
    "import pandas_datareader as pdr\n",
    "import datetime \n",
    "import matplotlib.pyplot as plt\n",
    "import numpy as np\n",
    "aapl = pdr.get_data_yahoo('AAPL', \n",
    "                          start=datetime.datetime(2006, 10, 1), \n",
    "                          end=datetime.datetime(2022, 1, 1))\n"
   ]
  },
  {
   "cell_type": "code",
   "execution_count": 4,
   "id": "c13c4ac2",
   "metadata": {},
   "outputs": [
    {
     "name": "stdout",
     "output_type": "stream",
     "text": [
      "Total Percentage Return: 442.6772187713038%\n",
      "Total Return with $1000: $4451.226760449342\n"
     ]
    }
   ],
   "source": [
    "aapl_range = aapl['Close'].loc['2006-10-06':'2011-12-30']\n",
    "v = aapl_range.pct_change()\n",
    "\n",
    "#formula for cummulative return got from DataCamp\n",
    "cum_daily_return = (1+v).cumprod()\n",
    "\n",
    "#enter the amount\n",
    "initial_amount = 1000\n",
    "\n",
    "#takes cummulative returns and multiplys by intital\n",
    "balance = cum_daily_return*initial_amount\n",
    "total_pct_return = ((balance.iloc[-1] - balance.iloc[1])/(balance.iloc[1]))*100\n",
    "total_return = balance.iloc[-1] - balance.iloc[1]\n",
    "\n",
    "print('Total Percentage Return: '+str(total_pct_return)+'%')\n",
    "\n",
    "print('Total Return with $'+str(initial_amount)+\": $\"+str(total_return))\n",
    "\n"
   ]
  }
 ],
 "metadata": {
  "kernelspec": {
   "display_name": "Python 3 (ipykernel)",
   "language": "python",
   "name": "python3"
  },
  "language_info": {
   "codemirror_mode": {
    "name": "ipython",
    "version": 3
   },
   "file_extension": ".py",
   "mimetype": "text/x-python",
   "name": "python",
   "nbconvert_exporter": "python",
   "pygments_lexer": "ipython3",
   "version": "3.9.12"
  }
 },
 "nbformat": 4,
 "nbformat_minor": 5
}
