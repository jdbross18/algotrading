{
 "cells": [
  {
   "cell_type": "code",
   "execution_count": 2,
   "id": "d7bb872a",
   "metadata": {},
   "outputs": [],
   "source": [
    "import math\n",
    "import pandas as pd\n",
    "import pandas_datareader as pdr\n",
    "import datetime \n",
    "import matplotlib.pyplot as plt\n",
    "import numpy as np\n",
    "aapl = pdr.get_data_yahoo('AAPL', \n",
    "                          start=datetime.datetime(2006, 10, 1), \n",
    "                          end=datetime.datetime(2011, 12, 30))\n"
   ]
  },
  {
   "cell_type": "code",
   "execution_count": 7,
   "id": "c13c4ac2",
   "metadata": {},
   "outputs": [
    {
     "name": "stdout",
     "output_type": "stream",
     "text": [
      "                   AAPL     holdings          cash          total   returns\n",
      "Date                                                                       \n",
      "2006-10-02     0.000000     0.000000  100000.00000  100000.000000       NaN\n",
      "2006-10-03     0.000000     0.000000  100000.00000  100000.000000  0.000000\n",
      "2006-10-04     0.000000     0.000000  100000.00000  100000.000000  0.000000\n",
      "2006-10-05     0.000000     0.000000  100000.00000  100000.000000  0.000000\n",
      "2006-10-06     0.000000     0.000000  100000.00000  100000.000000  0.000000\n",
      "...                 ...          ...           ...            ...       ...\n",
      "2011-12-23  1231.622696  1231.622696   99452.45285  100684.075546  0.000145\n",
      "2011-12-27     0.000000     0.000000  100693.84737  100693.847370  0.000097\n",
      "2011-12-28     0.000000     0.000000  100693.84737  100693.847370  0.000000\n",
      "2011-12-29     0.000000     0.000000  100693.84737  100693.847370  0.000000\n",
      "2011-12-30     0.000000     0.000000  100693.84737  100693.847370  0.000000\n",
      "\n",
      "[1323 rows x 5 columns]\n"
     ]
    }
   ],
   "source": [
    "short_window = 40\n",
    "long_window = 100\n",
    "\n",
    "initial_capital = 100000\n",
    "\n",
    "signals = pd.DataFrame(index=aapl.index)\n",
    "signals['signal'] = 0.0\n",
    "\n",
    "signals['short_mov_avg'] = aapl['Adj Close'].rolling(window=short_window, min_periods=1, center=False).mean()\n",
    "signals['long_mov_avg'] = aapl['Adj Close'].rolling(window=long_window, min_periods=1, center=False).mean()\n",
    "\n",
    "# Create signals (Came from course - dont understand)\n",
    "signals['signal'][short_window:] = np.where(signals['short_mov_avg'][short_window:] \n",
    "                                            > signals['long_mov_avg'][short_window:], 1.0, 0.0)   \n",
    "# Generate trading orders\n",
    "signals['positions'] = signals['signal'].diff()\n",
    "\n",
    "# Print `signals`\n",
    "#print(signals.head(50))\n",
    "\n",
    "\n",
    "\n",
    "\n",
    "\n",
    "\n",
    "positions = pd.DataFrame(index=signals.index)\n",
    "\n",
    "positions['AAPL'] = 100*signals['signal'] \n",
    "\n",
    "\n",
    "# Initialize the portfolio with value owned   \n",
    "portfolio = positions.multiply(aapl['Adj Close'], axis=0)\n",
    "\n",
    "# Store the difference in shares owned \n",
    "pos_diff = positions.diff()\n",
    "\n",
    "# Add `holdings` to portfolio\n",
    "portfolio['holdings'] = (positions.multiply(aapl['Adj Close'], axis=0)).sum(axis=1)\n",
    "\n",
    "# Add `cash` to portfolio\n",
    "portfolio['cash'] = initial_capital - (pos_diff.multiply(aapl['Adj Close'], axis=0)).sum(axis=1).cumsum()   \n",
    "\n",
    "# Add `total` to portfolio\n",
    "portfolio['total'] = portfolio['cash'] + portfolio['holdings']\n",
    "\n",
    "# Add `returns` to portfolio\n",
    "portfolio['returns'] = portfolio['total'].pct_change()\n",
    "\n",
    "# Print the first lines of `portfolio`\n",
    "print(portfolio)\n"
   ]
  }
 ],
 "metadata": {
  "kernelspec": {
   "display_name": "Python 3 (ipykernel)",
   "language": "python",
   "name": "python3"
  },
  "language_info": {
   "codemirror_mode": {
    "name": "ipython",
    "version": 3
   },
   "file_extension": ".py",
   "mimetype": "text/x-python",
   "name": "python",
   "nbconvert_exporter": "python",
   "pygments_lexer": "ipython3",
   "version": "3.9.12"
  }
 },
 "nbformat": 4,
 "nbformat_minor": 5
}
